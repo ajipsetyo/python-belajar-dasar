{
 "cells": [
  {
   "cell_type": "markdown",
   "metadata": {},
   "source": [
    "# Apa itu Bahasa pemrograman python?\n",
    "\n",
    "Python merupakan Bahasa perograman tingkat tinggi yang lebih menekankan pada keterbacaan kode agar lebih mudah untuk memahami sintaks. Hal ini membuat bahasa pemrograman python sangat mudah dipelajari baik untuk pemula maupun untuk yang sudah menguasai bahasa pemrograman lain. Bahasa pemrograman python dirancang oleh Guido van Rossum pada tahun 1991. Sampai saat ini sudah mendukung hampir semua sistem operasi termasuk windows dan linux."
   ]
  },
  {
   "attachments": {},
   "cell_type": "markdown",
   "metadata": {},
   "source": [
    "# Berikut langkah-langkah instalasi python :\n",
    "   - Buka aplikasi python\n",
    "   - Ceklis bagian add python 3.6 to path supaya path dapat otomatis di konfigurasi dan pilih install now\n",
    "   - Tunggu prosesnya dan selesai"
   ]
  },
  {
   "cell_type": "markdown",
   "metadata": {},
   "source": [
    "# Didalam aplikasi python terdapat dua mode yang dapat digunakan :\n",
    "\n",
    "Mode interaktif yaitu tempat menulis kode secara interaktif : Setiap kode yang diketik akan langsung direspon oleh python.\n",
    "Mode script python yaitu tempat menulis kode secara script : programmer dapat mengetik kode program dengan script dan jika sudah selesai dapat di run untuk menghasilkan output."
   ]
  },
  {
   "cell_type": "markdown",
   "metadata": {},
   "source": [
    "# Pengenalan dasar python\n",
    "Perintah pertama akan dipelajari adalah perintah yang digunakan untuk mencetak, yang dipakai adalah print(). Ada perbedaan antara python 2 dan python 3 yaitu pada python 2 ketika ingin mencetak variabel tidak usah memakai tanda tutup kurung, cukup dipisahkan dengan spasi antara perintah dan variabel."
   ]
  },
  {
   "cell_type": "code",
   "execution_count": null,
   "metadata": {},
   "outputs": [],
   "source": [
    "print (\"hello world\")"
   ]
  },
  {
   "cell_type": "markdown",
   "metadata": {},
   "source": [
    "Python termasuk bahasa yang case sensitive yaitu bahasa pemrograman yang memahami perbedaan huruf besar dan huruf kecil. \n"
   ]
  },
  {
   "cell_type": "code",
   "execution_count": null,
   "metadata": {},
   "outputs": [],
   "source": [
    "Print (\"Hello\")"
   ]
  },
  {
   "cell_type": "markdown",
   "metadata": {},
   "source": [
    "# Variabel\n",
    "adalah lokasi memori yang dicadangkan untuk menyimpan nilai-nilai. Variabel menyimpan data yang dilakukan selama program dieksekusi, yang nantinya isi dari variabel tersebut dapat diubah oleh operasi - operasi tertentu pada program yang menggunakan variabel.\n",
    "Penulisan variabel Python sendiri juga memiliki aturan tertentu, yaitu :\n",
    "\n",
    "1. Karakter pertama harus berupa huruf atau garis bawah/underscore _\n",
    "2. Karakter selanjutnya dapat berupa huruf, garis bawah/underscore _ atau angka\n",
    "3. Karakter pada nama variabel bersifat sensitif (case-sensitif). Artinya huruf kecil dan huruf besar dibedakan. Sebagai contoh, variabel namaDepan dan namadepan adalah variabel yang berbeda."
   ]
  },
  {
   "cell_type": "code",
   "execution_count": null,
   "metadata": {},
   "outputs": [],
   "source": [
    "angka1 = input(\"Masukkan input :\")\n",
    "jumlah = int(angka1)+int(angka1)\n",
    "print (jumlah)"
   ]
  },
  {
   "cell_type": "markdown",
   "metadata": {},
   "source": [
    "# Tipe data \n",
    "   adalah memori pada komputer yang digunakan untuk menampung informasi. Pada beberapa bahasa perograman seperti java tipe data harus didefinisikan terlebih dahulu, namun pada python hal itu tidak perlu karena python sudah bisa membedakan tipe data sendiri sesuai dengan kebutuhan user, Hal ini disebut Castir. Berikut tipe data pada bahasa pemrograman python."
   ]
  },
  {
   "cell_type": "markdown",
   "metadata": {},
   "source": [
    "- Boolean\t = Menyatakan true yang bernilai 1 dan false yang bernilai 0."
   ]
  },
  {
   "cell_type": "code",
   "execution_count": null,
   "metadata": {},
   "outputs": [],
   "source": [
    "print (\"True\")"
   ]
  },
  {
   "cell_type": "markdown",
   "metadata": {},
   "source": [
    "- String = Karakter atau kalimat bisa juga berupa angka\n"
   ]
  },
  {
   "cell_type": "code",
   "execution_count": null,
   "metadata": {},
   "outputs": [],
   "source": [
    "print (\"Ini string\")"
   ]
  },
  {
   "cell_type": "markdown",
   "metadata": {},
   "source": [
    "- Integer = menyatakan bilangan bulat"
   ]
  },
  {
   "cell_type": "code",
   "execution_count": null,
   "metadata": {},
   "outputs": [],
   "source": [
    "print (\"14\")"
   ]
  },
  {
   "cell_type": "markdown",
   "metadata": {},
   "source": [
    "- Float= Menyatakan bilangan yang memiliki koma contoh = 3,14\n"
   ]
  },
  {
   "cell_type": "code",
   "execution_count": null,
   "metadata": {},
   "outputs": [],
   "source": [
    "print (\"3,14\")"
   ]
  },
  {
   "cell_type": "markdown",
   "metadata": {},
   "source": [
    "- List = Data yang menyimpan berbagai tipe data dan isinya bisa diubah-ubah."
   ]
  },
  {
   "cell_type": "code",
   "execution_count": null,
   "metadata": {},
   "outputs": [],
   "source": [
    "list1 = ['fisika', 'kimia', 1993, 2017]\n",
    "list2 = [1, 2, 3, 4, 5, 6, 7 ]\n",
    "\n",
    "print (\"list1[0]: \", list1[0])\n",
    "print (\"list2[1:5]: \", list2[1:5])"
   ]
  },
  {
   "cell_type": "markdown",
   "metadata": {},
   "source": [
    "- Tuple = Data untaian yang menyimpan berbagai tipe data tapi isinya tidak bisa diubah"
   ]
  },
  {
   "cell_type": "code",
   "execution_count": null,
   "metadata": {},
   "outputs": [],
   "source": [
    "tup1 = ('fisika', 'kimia', 1993, 2017)\n",
    "tup2 = (1, 2, 3, 4, 5, 6, 7 )\n",
    "\n",
    "print (\"tup1[0]: \", tup1[0])\n",
    "print (\"tup2[1:5]: \", tup2[1:5])"
   ]
  },
  {
   "cell_type": "markdown",
   "metadata": {},
   "source": [
    "- Dictionary\t= Data untaian yang menyimpan berbagai tipe data berupa pasangan penunjuk dan nilai, contoh {‘npm:544’ , ’nama:aji’}"
   ]
  },
  {
   "cell_type": "code",
   "execution_count": null,
   "metadata": {},
   "outputs": [],
   "source": [
    "print ({\"npm\":544 , \"nama\":\"aji\"})"
   ]
  },
  {
   "cell_type": "markdown",
   "metadata": {},
   "source": [
    "# Operator Aritmatika :\n",
    "1. Penjumlahan\t= Menjumlahkan nilai dari masing-masing operan atau bilangan\n",
    "2. Pengurangan\t= Mengurangi nilai operan di sebelah kiri menggunakan operan disebelah kanan\n",
    "3. Perkalian\t= Mengalikan operan/bilangan\n",
    "4. Pembagian\t= Membagi nilai operan di sebelah kiri menggunakan operan disebelah kanan\n",
    "5. Pembagian Bulat = Sama seperti pembagian namun angka dibelakang koma dihilangkan (//)\n",
    "6. Sisa Bagi\t= Mendapatkan sisa pembagian dari operan di sebelah kiri operator ketika dibagi oleh operan di sebelah kanan (%)\n",
    "7. Pangkat\t= Memangkatkan operan disebelah kiri operator dengan operan di sebelah kanan operator (**)\n"
   ]
  },
  {
   "cell_type": "code",
   "execution_count": null,
   "metadata": {},
   "outputs": [],
   "source": [
    "angka1=2\n",
    "angka2=2\n",
    "print (angka1 + angka2)"
   ]
  },
  {
   "cell_type": "code",
   "execution_count": null,
   "metadata": {},
   "outputs": [],
   "source": [
    "angka1=4\n",
    "angka2=2\n",
    "print (angka1 - angka2)"
   ]
  },
  {
   "cell_type": "code",
   "execution_count": null,
   "metadata": {},
   "outputs": [],
   "source": [
    "angka1=2\n",
    "angka2=2\n",
    "print (angka1 * angka2)"
   ]
  },
  {
   "cell_type": "code",
   "execution_count": null,
   "metadata": {},
   "outputs": [],
   "source": [
    "angka1=2\n",
    "angka2=2\n",
    "print (angka1 / angka2)"
   ]
  },
  {
   "cell_type": "code",
   "execution_count": null,
   "metadata": {},
   "outputs": [],
   "source": [
    "angka1=2\n",
    "angka2=2\n",
    "print (angka1 // angka2)"
   ]
  },
  {
   "cell_type": "code",
   "execution_count": null,
   "metadata": {},
   "outputs": [],
   "source": [
    "angka1=5\n",
    "angka2=2\n",
    "print (angka1 % angka2)"
   ]
  },
  {
   "cell_type": "code",
   "execution_count": null,
   "metadata": {},
   "outputs": [],
   "source": [
    "angka1=6\n",
    "angka2=2\n",
    "print (angka1 ** angka2)"
   ]
  },
  {
   "cell_type": "markdown",
   "metadata": {},
   "source": [
    "# Operator Perbandingan digunakan untuk membandingkan suatu nilai dari masing-masing operan.\n",
    "\n",
    "1. Sama dengan == bernilai True jika masing-masing operan memiliki nilai yang sama, maka kondisi bernilai benar atau True.\n",
    "2. Tidak sama dengan !=  bernilai False akan menghasilkan nilai kebalikan dari kondisi sebenarnya.\n",
    "3. Tidak sama dengan <>\tbernilai False akan menghasilkan nilai kebalikan dari kondisi sebenarnya.\n",
    "4. Lebih besar dari > bernilai True, jika nilai operan kiri lebih besar dari nilai operan kanan, maka kondisi menjadi benar.\n",
    "5. Lebih kecil dari < bernilai True, jika nilai operan kiri lebih kecil dari nilai operan kanan, maka kondisi menjadi benar.\n",
    "6. Lebih besar atau sama dengan >= bernilai True, jika nilai operan kiri lebih besar dari nilai operan kanan, atau sama, maka kondisi menjadi benar.\n",
    "7. Lebih kecil atau sama dengan <= bernilai True, jika nilai operan kiri lebih kecil dari nilai operan kanan, atau sama, maka kondisi menjadi benar."
   ]
  },
  {
   "cell_type": "markdown",
   "metadata": {},
   "source": [
    "# Perulangan pada python :"
   ]
  },
  {
   "cell_type": "markdown",
   "metadata": {},
   "source": [
    "- While Loop\n",
    "Pengulangan while Loop di dalam bahasa pemrograman Python dieksesusi statement berkali-kali selama kondisi bernilai benar atau True."
   ]
  },
  {
   "cell_type": "code",
   "execution_count": null,
   "metadata": {},
   "outputs": [],
   "source": [
    "angka =1\n",
    "while angka < 4:\n",
    "    print(angka)\n",
    "    angka +=1"
   ]
  },
  {
   "cell_type": "markdown",
   "metadata": {},
   "source": [
    "- For Loop\n",
    "Pengulangan for pada Python memiliki kemampuan untuk mengulangi item dari urutan apapun, seperti list atau string."
   ]
  },
  {
   "cell_type": "code",
   "execution_count": null,
   "metadata": {},
   "outputs": [],
   "source": [
    "string  = \"deep\"\n",
    "for x in string:\n",
    "    print (x)"
   ]
  },
  {
   "cell_type": "markdown",
   "metadata": {},
   "source": [
    "- Nested Loop\n",
    "Nested loop adalah perulangan bersarang atau perulangan didalam perulangan."
   ]
  },
  {
   "cell_type": "code",
   "execution_count": null,
   "metadata": {},
   "outputs": [],
   "source": [
    "for i in range(1, 10):\n",
    "    for j in range(i):\n",
    "        print(i, end='')\n",
    "    print ()"
   ]
  },
  {
   "attachments": {},
   "cell_type": "markdown",
   "metadata": {},
   "source": [
    "# Kondisi terbagi menjadi tiga yaitu :\n",
    "- IF\n",
    "Jika kondisi bernilai salah False maka statement/kondisi if tidak akan di-eksekusi."
   ]
  },
  {
   "cell_type": "code",
   "execution_count": null,
   "metadata": {},
   "outputs": [],
   "source": [
    "nilai =8\n",
    "if (nilai >7):\n",
    "    print(\"selamat anda lulus\")"
   ]
  },
  {
   "attachments": {},
   "cell_type": "markdown",
   "metadata": {},
   "source": [
    "- IF Else\n",
    "Kondisi if else adalah kondisi dimana jika pernyataan benar True maka kode dalam if akan dieksekusi, tetapi jika bernilai salah False maka akan mengeksekusi kode di dalam else."
   ]
  },
  {
   "cell_type": "code",
   "execution_count": null,
   "metadata": {},
   "outputs": [],
   "source": [
    "nilai =6\n",
    "if (nilai >7):\n",
    "    print(\"selamat anda lulus\")\n",
    "else:\n",
    "    print(\"maaf anda tidak lulus \")"
   ]
  },
  {
   "attachments": {},
   "cell_type": "markdown",
   "metadata": {},
   "source": [
    "- If Elif\n",
    "Elif dapat membuat kode program untuk menyeleksi beberapa kemungkinan yang bisa terjadi. Hampir sama dengan kondisi else, bedanya kondisi elif dapat lebih dari satu."
   ]
  },
  {
   "cell_type": "code",
   "execution_count": null,
   "metadata": {},
   "outputs": [],
   "source": [
    "nilai =1\n",
    "if (nilai>6):\n",
    "    print(\"nilai anda baik\")\n",
    "elif (nilai<5 and nilai>2):\n",
    "    print(\"nilai perlu perbaikan\")\n",
    "elif (nilai<2):\n",
    "    print(\"nilai anda kurang baik\")"
   ]
  }
 ],
 "metadata": {
  "kernelspec": {
   "display_name": "Python 3",
   "language": "python",
   "name": "python3"
  },
  "language_info": {
   "codemirror_mode": {
    "name": "ipython",
    "version": 3
   },
   "file_extension": ".py",
   "mimetype": "text/x-python",
   "name": "python",
   "nbconvert_exporter": "python",
   "pygments_lexer": "ipython3",
   "version": "3.6.2"
  }
 },
 "nbformat": 4,
 "nbformat_minor": 2
}
